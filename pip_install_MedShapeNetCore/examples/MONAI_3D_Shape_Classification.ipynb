{
  "nbformat": 4,
  "nbformat_minor": 0,
  "metadata": {
    "colab": {
      "provenance": [],
      "gpuType": "T4"
    },
    "kernelspec": {
      "name": "python3",
      "display_name": "Python 3"
    },
    "language_info": {
      "name": "python"
    },
    "accelerator": "GPU"
  },
  "cells": [
    {
      "cell_type": "markdown",
      "source": [
        "Classification of Diseased and Healthy 3D Coronary Artery Shapes Using MONAI (Minimal Reproducible Example)"
      ],
      "metadata": {
        "id": "Hp27R4K9tUKs"
      }
    },
    {
      "cell_type": "markdown",
      "source": [
        "installation"
      ],
      "metadata": {
        "id": "Rw2hgMcrtwKp"
      }
    },
    {
      "cell_type": "code",
      "execution_count": null,
      "metadata": {
        "id": "xL4AU_X4rveB"
      },
      "outputs": [],
      "source": [
        "!pip install monai\n",
        "!pip install MedShapeNetCore"
      ]
    },
    {
      "cell_type": "markdown",
      "source": [
        "download the dataset"
      ],
      "metadata": {
        "id": "GuyPvbXkvk0q"
      }
    },
    {
      "cell_type": "code",
      "source": [
        "!python -m MedShapeNetCore download ASOCA"
      ],
      "metadata": {
        "colab": {
          "base_uri": "https://localhost:8080/"
        },
        "id": "y5BL5LQTvnCz",
        "outputId": "1066e465-0f94-4374-d0e2-67f1e6aa8876"
      },
      "execution_count": 4,
      "outputs": [
        {
          "output_type": "stream",
          "name": "stdout",
          "text": [
            "downloading...\n",
            "[################################] 42842/42842 - 00:00:10\n",
            "download complete...\n",
            "file directory: ./medshapenetcore_npz/medshapenetcore_ASOCA.npz\n"
          ]
        }
      ]
    },
    {
      "cell_type": "markdown",
      "source": [
        "import necessay packages"
      ],
      "metadata": {
        "id": "Z9QKBKFHv1lr"
      }
    },
    {
      "cell_type": "code",
      "source": [
        "import os\n",
        "import sys\n",
        "import monai\n",
        "import torch\n",
        "import numpy as np\n",
        "from MedShapeNetCore.MedShapeNetCore import MyDict,MSNLoader,MSNVisualizer,MSNSaver,MSNTransformer\n",
        "pin_memory = torch.cuda.is_available()\n",
        "device = torch.device(\"cuda\" if torch.cuda.is_available() else \"cpu\")\n",
        "print('using:',device)\n",
        "\n"
      ],
      "metadata": {
        "colab": {
          "base_uri": "https://localhost:8080/"
        },
        "id": "qtu4zr59tHYd",
        "outputId": "5b544105-c8a6-41af-aa53-ada1b30ea4d9"
      },
      "execution_count": 41,
      "outputs": [
        {
          "output_type": "stream",
          "name": "stdout",
          "text": [
            "using: cuda\n"
          ]
        }
      ]
    },
    {
      "cell_type": "markdown",
      "source": [
        "load and prepare the shape data"
      ],
      "metadata": {
        "id": "35p131DDwzid"
      }
    },
    {
      "cell_type": "code",
      "source": [
        "msn_loader=MSNLoader()\n",
        "ASOCA_DATA=msn_loader.load('ASOCA')\n",
        "shape_data=ASOCA_DATA['mask']\n",
        "shape_labels=ASOCA_DATA['labels']\n",
        "print(shape_data.shape)\n",
        "print(labels)\n",
        "labels = torch.nn.functional.one_hot(torch.as_tensor(labels).to(torch.int64)).float() #  one hot encoding\n",
        "print(labels.shape)"
      ],
      "metadata": {
        "colab": {
          "base_uri": "https://localhost:8080/"
        },
        "id": "X7-tLTIew2Z8",
        "outputId": "b5ee2f92-e92b-4c45-972c-90dd55faa4fe"
      },
      "execution_count": 42,
      "outputs": [
        {
          "output_type": "stream",
          "name": "stdout",
          "text": [
            "current dataset: ./medshapenetcore_npz/medshapenetcore_ASOCA.npz\n",
            "available keys in the dataset: ['mask', 'point', 'mesh', 'labels']\n",
            "(40, 256, 256, 256)\n",
            "tensor([0], device='cuda:0')\n",
            "torch.Size([1, 1])\n"
          ]
        }
      ]
    },
    {
      "cell_type": "markdown",
      "source": [
        "define the optimizer, loss function and a classification model based on DenseNet"
      ],
      "metadata": {
        "id": "mk8oZ5WqykWK"
      }
    },
    {
      "cell_type": "code",
      "source": [
        "model = monai.networks.nets.DenseNet121(spatial_dims=3, in_channels=1, out_channels=2).to(device)\n",
        "loss_function = torch.nn.CrossEntropyLoss()\n",
        "optimizer = torch.optim.Adam(model.parameters(), 1e-4)"
      ],
      "metadata": {
        "id": "41ot9r4byrq-"
      },
      "execution_count": 43,
      "outputs": []
    },
    {
      "cell_type": "markdown",
      "source": [
        "train the model for 200 epochs"
      ],
      "metadata": {
        "id": "5fQhCF42zLF3"
      }
    },
    {
      "cell_type": "code",
      "source": [
        "max_epochs=200\n",
        "torch.cuda.empty_cache()\n",
        "import gc\n",
        "gc.collect()\n",
        "for epoch in range(max_epochs):\n",
        "    print(f\"epoch {epoch + 1}/{max_epochs}\")\n",
        "    model.train()\n",
        "    epoch_loss = 0\n",
        "    for i in range(len(shape_labels)):\n",
        "        torch.cuda.empty_cache()\n",
        "        inputs = torch.tensor(np.expand_dims(np.expand_dims(shape_data[i],axis=0),axis=0),dtype=torch.float32).to(device)\n",
        "        labels = torch.tensor(np.expand_dims(shape_labels[i],axis=0),dtype=torch.float32).type(torch.LongTensor).to(device)\n",
        "        torch.cuda.empty_cache()\n",
        "        optimizer.zero_grad()\n",
        "        outputs = model(inputs)\n",
        "        loss = 20*loss_function(outputs, labels)\n",
        "        loss.backward()\n",
        "        optimizer.step()\n",
        "        epoch_loss += loss.item()\n",
        "        print(f\"train_loss: {loss.item():.4f}\")"
      ],
      "metadata": {
        "id": "p92oRSjVzNpY"
      },
      "execution_count": null,
      "outputs": []
    }
  ]
}